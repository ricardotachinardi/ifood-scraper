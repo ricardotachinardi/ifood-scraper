{
 "metadata": {
  "language_info": {
   "codemirror_mode": {
    "name": "ipython",
    "version": 3
   },
   "file_extension": ".py",
   "mimetype": "text/x-python",
   "name": "python",
   "nbconvert_exporter": "python",
   "pygments_lexer": "ipython3",
   "version": "3.8.3-final"
  },
  "orig_nbformat": 2,
  "kernelspec": {
   "name": "python3",
   "display_name": "Python 3.8.3 64-bit",
   "metadata": {
    "interpreter": {
     "hash": "b26b816b46fa41c744f8d854f235666a2947db7564293d95b5d878fcc3ab0b5a"
    }
   }
  }
 },
 "nbformat": 4,
 "nbformat_minor": 2,
 "cells": [
  {
   "source": [
    "# Explorando a API do iFood"
   ],
   "cell_type": "markdown",
   "metadata": {}
  },
  {
   "cell_type": "code",
   "execution_count": 9,
   "metadata": {},
   "outputs": [],
   "source": [
    "import requests\n",
    "import json"
   ]
  },
  {
   "source": [
    "## A url pode ser chamada de dois modos:\n",
    "\n",
    "### Procurando vários restaurantes\n",
    "- Usado pelo iFood para listar os restaurantes\n",
    "- Url Base: https://marketplace.ifood.com.br/v1/merchants?\n",
    "- Parâmetros (eles são divididos por &):\n",
    "    - channel: quase sempre é obrigatória.\n",
    "        - sempre usa-se channel=IFOOD (não achei outro caso, pelo menos)\n",
    "    - latitude, longitude: use as duas ou não use nenhuma. \n",
    "        - exemplo: latitude=-23.19529&longitude=-45.90321\n",
    "    - size, page: na hora de fazer requests sem especificar o restaurantid, você pode definir quantos restaurantes quer receber com a variável size, a page itera entre páginas de tamanho size. \n",
    "        - exemplo: size=100&page=2 para mostrar os resultados 101-200\n",
    "\n",
    "### Procurando um restaurante específico, dado o id dele\n",
    "- https://marketplace.ifood.com.br/v1/merchants/{id}/extra: retorna algumas informações sobre o restaurante do id enviado, como localização geográfica e descrição da loja ({id} é o id do restaurante)\n",
    "    - Usado pelo iFood para criar a descrição do restaurante\n",
    "- https://marketplace.ifood.com.br/v1/merchants/{id}/payment-methods: retorna algumas informações sobre o restaurante do id enviado, como localização geográfica e descrição da loja ({id} é o id do restaurante)\n",
    "    - Usado pelo iFood para listar os métodos de pagamento disponíveis\n",
    "- https://marketplace.ifood.com.br/v1/merchants/{id}?channel=IFOOD: retorna algumas informações referentes à entrega desse restaurante. zip_code, latitude e longitude também podem ser usados.\n",
    "    - exemplo: https://marketplace.ifood.com.br/v2/merchants/1777ea72-8ae7-4b6c-a63e-9a4639d2d0b1?restaurantId=1777ea72-8ae7-4b6c-a63e-9a4639d2d0b1&latitude=-23.492296&longitude=-46.84311659999999&channel=IFOOD&size=10\n",
    "    - outro exemplo: https://marketplace.ifood.com.br/v2/merchants/1777ea72-8ae7-4b6c-a63e-9a4639d2d0b1?restaurantId=1777ea72-8ae7-4b6c-a63e-9a4639d2d0b1&channel=IFOOD&zip_code=06440180"
   ],
   "cell_type": "markdown",
   "metadata": {}
  },
  {
   "source": [
    "## a) Listando restaurantes numa área \n",
    "### Esse método foi usado para a criação do dataset dos restaurantes"
   ],
   "cell_type": "markdown",
   "metadata": {}
  },
  {
   "cell_type": "code",
   "execution_count": 19,
   "metadata": {},
   "outputs": [
    {
     "output_type": "execute_result",
     "data": {
      "text/plain": [
       "dict_keys(['page', 'total', 'size', 'merchants', 'facets'])"
      ]
     },
     "metadata": {},
     "execution_count": 19
    }
   ],
   "source": [
    "# Para obter os restaurantes disponiveis em latitude=-23.19529, longitude=-45.90321:\n",
    "response = requests.get(\"https://marketplace.ifood.com.br/v1/merchants?latitude=-23.19529&longitude=-45.90321&channel=IFOOD\")\n",
    "content = response.content\n",
    "# Observando as dict_keys: \"total\" indica o numero de restaurantes na área, pode ser usado para nos ajudar a iterar pelas páginas, enquanto \"merchants\" contém uma lista informações sobre os restaurantes e \"facets\" dá um resumo das informações dos restaurantes.\n",
    "json.loads(content).keys()"
   ]
  },
  {
   "cell_type": "code",
   "execution_count": 20,
   "metadata": {},
   "outputs": [
    {
     "output_type": "execute_result",
     "data": {
      "text/plain": [
       "2547"
      ]
     },
     "metadata": {},
     "execution_count": 20
    }
   ],
   "source": [
    "# o size = 0 esconde a lista merchants, que contém informações sobre os restaurantes, podemos usar isso para gastar menos dados na hora de obter algo das \"facets\" ou o \"total\"\n",
    "response = requests.get(\"https://marketplace.ifood.com.br/v1/merchants?latitude=-23.19529&longitude=-45.90321&channel=IFOOD\")\n",
    "content = response.content\n",
    "json.loads(content)['total']"
   ]
  },
  {
   "cell_type": "code",
   "execution_count": 32,
   "metadata": {},
   "outputs": [
    {
     "output_type": "stream",
     "name": "stdout",
     "text": [
      "Tamanho da 'merchants': 2\n"
     ]
    },
    {
     "output_type": "execute_result",
     "data": {
      "text/plain": [
       "[{'id': '74dde208-f99c-4e06-bb90-2bbbfaffeb7e',\n",
       "  'name': 'Rei do Açai',\n",
       "  'resources': [{'type': 'LOGO',\n",
       "    'fileName': '74dde208-f99c-4e06-bb90-2bbbfaffeb7e/202006191726_EfW5_i.jpg'},\n",
       "   {'type': 'HEADER',\n",
       "    'fileName': '74dde208-f99c-4e06-bb90-2bbbfaffeb7e/202006191726_Ap7u_i.jpg'}],\n",
       "  'slug': 'sao-jose-dos-campos-sp/rei-do-acai-bosque-dos-eucaliptos',\n",
       "  'userRating': 4.2740302085876465,\n",
       "  'priceRange': 'CHEAP',\n",
       "  'mainCategory': {'code': 'AC1', 'name': 'Açaí'},\n",
       "  'features': ['DELIVERY', 'SCHEDULING', 'IMMEDIATE_ORDER'],\n",
       "  'tags': ['70OFF_OUTRAS_CIDADES_DFN',\n",
       "   'ABR20_LANCHE',\n",
       "   'ADDRESS_PREFORM_TYPE',\n",
       "   'ALL_OFF_SET19',\n",
       "   'ALMOCO_ATE_15',\n",
       "   'ALMOCO_ATE_15_ELIGIBLE',\n",
       "   'ALMOCO_ATE_15_OPTED_IN',\n",
       "   'BF_CUPOM15OFF_NOV20',\n",
       "   'CAFE_DA_MANHA',\n",
       "   'CAFE_DA_MANHA_ELIGIBLE',\n",
       "   'CAFE_DA_MANHA_OPTED_IN',\n",
       "   'carrossel_madrugada_ago20',\n",
       "   'CART::DELIVERY_FEE_DISH',\n",
       "   'CART::DELIVERY_FEE_DISH_ELIGIBLE',\n",
       "   'CART::DELIVERY_FEE_DISH_OPTED_IN',\n",
       "   'CONTA_ESTRATEGICA',\n",
       "   'CPGN_1811_BLK_NOV',\n",
       "   'CPGN_1811_BLK_NOV_30_ELIGIBLE',\n",
       "   'CPGN_1811_BLK_NOV_30_OPTED_IN',\n",
       "   'CPGN_1811_BLK_NOV_50_ELIGIBLE',\n",
       "   'CPGN_1811_BLK_NOV_50_OPTED_IN',\n",
       "   'CPGN_1811_BLK_NOV_ELIGIBLE',\n",
       "   'CPGN_1811_BLK_NOV_OO',\n",
       "   'CPGN_1811_BLK_NOV_OPTED_IN',\n",
       "   'CPGN_1811_BLK_NOV_PERFORMANCE',\n",
       "   'CPGN_DISC_1809_30_ELIGIBLE',\n",
       "   'CPGN_DISC_1809_30_OPTED_IN',\n",
       "   'CPGN_DISC_1809_50_ELIGIBLE',\n",
       "   'CPGN_DISC_1809_50_OPTED_IN',\n",
       "   'CPGN_DISC_1809_ELIGIBLE',\n",
       "   'CPGN_DISC_1809_OO',\n",
       "   'CPGN_DISC_1809_OPTED_IN',\n",
       "   'CPGN_USER_DISCOUNT_6_LIST',\n",
       "   'CPGN_VOUCHER_LIGHT_KA',\n",
       "   'ENG_CRM_SUPER_REST_2008',\n",
       "   'EXCLUSIVO',\n",
       "   'FAMOSOS_ELIGIBLE',\n",
       "   'FAMOSOSJAN20',\n",
       "   'FAMOSOS_OPTED_IN',\n",
       "   'FAVORITOS_IFOOD_NOV20',\n",
       "   'GUIDED_HELP_TYPE',\n",
       "   'HAMBURGUER_DESTAQUES',\n",
       "   'JAN20::TAKEOUT_20MIN',\n",
       "   'JANTAR_ATE_15',\n",
       "   'JANTAR_ATE_15_ELIGIBLE',\n",
       "   'JANTAR_ATE_15_OPTED_IN',\n",
       "   'MAISPEDIDOS_REGIAO',\n",
       "   'MESDODOCE_FIDELIDADE_DEZ20 ',\n",
       "   'NAMORADOS_CUPOM',\n",
       "   'NOVIDADE_IFOOD_DEZ20 ',\n",
       "   'ORD_AGENDAMENTO_NOV19',\n",
       "   'ORD_AGENDAMENTO_NOVOS_PRATO_JAN20',\n",
       "   'ORD_AGENDAMENTO_PRATO_DEZ19',\n",
       "   'PAGAMENTO_DINHEIRO_SET19',\n",
       "   'RANKING_DESCONTO_ATE70_MAR21',\n",
       "   'RANKING_OFERTAS_ATE20_MAR21',\n",
       "   'REST_OUT20_CERAMBEV_FRETEGRATIS EST',\n",
       "   'SELECIONADOS_KA_CE_ELIGIBLE',\n",
       "   'SELECIONADOS_KA_CE_OPTED_IN',\n",
       "   'SEMANA_HAMBURGUER_DESTAQUES',\n",
       "   'SEMANAPIZZA_CARROSSEL',\n",
       "   'SEMANAPIZZA_TAXAGRATIS',\n",
       "   'SO_TEM_NO_IFOOD',\n",
       "   'SRVT_ACAI_ATE_15_FEV19',\n",
       "   'VIP',\n",
       "   'WRAPPED_DEZ19'],\n",
       "  'paymentCodes': ['DNR',\n",
       "   'MPAY',\n",
       "   'MOVPAY_MC',\n",
       "   'RAM',\n",
       "   'MC',\n",
       "   'GPY_ELO',\n",
       "   'REC',\n",
       "   'RDREST',\n",
       "   'ELOD',\n",
       "   'GPY_MCMA',\n",
       "   'AM',\n",
       "   'MCMA',\n",
       "   'MOVPAY_AM',\n",
       "   'DIN',\n",
       "   'APL_ELOD',\n",
       "   'IMV',\n",
       "   'BANRD',\n",
       "   'MOVPAY_VIS',\n",
       "   'GPY_ELOD',\n",
       "   'TRE',\n",
       "   'APL_MCMA',\n",
       "   'GPY_MC',\n",
       "   'APL_ELO',\n",
       "   'MOVPAY_HIPER',\n",
       "   'DNREST',\n",
       "   'APL_VISE',\n",
       "   'HIPER',\n",
       "   'IFE',\n",
       "   'BENVVR',\n",
       "   'VIS',\n",
       "   'RSODEX',\n",
       "   'VVREST',\n",
       "   'RED',\n",
       "   'VIREST',\n",
       "   'VR_SMA',\n",
       "   'VSREST',\n",
       "   'APL_VIS',\n",
       "   'RHIP',\n",
       "   'MOVPAY_ELO',\n",
       "   'GPY_VISE',\n",
       "   'MOVPAY_DNR',\n",
       "   'VISE',\n",
       "   'ELO',\n",
       "   'APL_MC',\n",
       "   'MEREST',\n",
       "   'GPY_VIS'],\n",
       "  'minimumOrderValue': 12.0,\n",
       "  'deliveryFee': {'type': 'FIXED', 'value': 5.5, 'originalValue': 5.5},\n",
       "  'deliveryTime': 45,\n",
       "  'distance': 5.45,\n",
       "  'available': True,\n",
       "  'merchantChain': {'id': 'add7b161-11d0-41af-9981-0ca4cab849bf',\n",
       "   'name': 'Rei do Açai*',\n",
       "   'slug': 'reidoacaipiracicaba',\n",
       "   'resources': [{'type': 'LOGO'}, {'type': 'HEADER'}]},\n",
       "  'takeoutTime': 20,\n",
       "  'preparationTime': 0,\n",
       "  'contextSetup': {'context': 'DEFAULT',\n",
       "   'regionGroup': 'e1dbd9d8-45d6-4b33-aafc-417b8d69b06d',\n",
       "   'catalogGroup': 'ffca0022-eb43-4205-9a1b-73a72f8e3f95'},\n",
       "  'currency': 'BRL'},\n",
       " {'id': 'fc452614-384b-4949-b569-7454192a337f',\n",
       "  'name': 'Sushi Kasato',\n",
       "  'resources': [{'type': 'LOGO',\n",
       "    'fileName': '201812191902_fc452614-384b-4949-b569-7454192a337f.png'},\n",
       "   {'type': 'HEADER',\n",
       "    'fileName': 'fc452614-384b-4949-b569-7454192a337f/201905241411_d2X4_k.jpg'}],\n",
       "  'slug': 'sao-jose-dos-campos-sp/sushi-kasato-jardim-nova-america',\n",
       "  'userRating': 4.780990123748779,\n",
       "  'priceRange': 'MOST_EXPENSIVE',\n",
       "  'mainCategory': {'code': 'JAP', 'name': 'Japonesa'},\n",
       "  'features': ['DELIVERY',\n",
       "   'TAKEOUT',\n",
       "   'TRACKING',\n",
       "   'TRACEABLE',\n",
       "   'IMMEDIATE_ORDER',\n",
       "   'INDOOR_TAKEOUT',\n",
       "   'INDOOR_DELIVERY'],\n",
       "  'tags': ['ACOMPANHE_PEDIDO_EM_ATIVACAO_AGO19',\n",
       "   'ADDRESS_PREFORM_TYPE',\n",
       "   'BF_CUPOM15OFF_NOV20',\n",
       "   'CONTA_ESTRATEGICA',\n",
       "   'CPGN_USER_DISCOUNT_6_LIST',\n",
       "   'CRM_20200109_TOGO_TAG',\n",
       "   'ENG_CRM_SUPER_REST_2008',\n",
       "   'ENTREGA_FOGUETE_NOV19',\n",
       "   'EXCLUSIVO',\n",
       "   'GUIDED_HELP_TYPE',\n",
       "   'JAN20::TAKEOUT_20MIN',\n",
       "   'MAR20_CUPOM_REST_PEQ',\n",
       "   'MKT_PDIVIDIR_MAR20',\n",
       "   'ORD_AGENDAMENTO_NOV19',\n",
       "   'ORD_AGENDAMENTO_NOVOS_PRATO_JAN20',\n",
       "   'ORD_AGENDAMENTO_PRATO_DEZ19',\n",
       "   'PRATOS_VEGETARIANOS_FEV21',\n",
       "   'PRESSA_PRA_ALMOCAR',\n",
       "   'PRESSA_PRA_ALMOCAR_ELIGIBLE',\n",
       "   'PRESSA_PRA_ALMOCAR_OPTED_IN',\n",
       "   'RES_JAN21_COCA_CUPOM',\n",
       "   'REST_DEZ20_NAB_EG',\n",
       "   'REST_FEV21_AMBEVNAB',\n",
       "   'REST_NOV20_AMBEVNAB_EG',\n",
       "   'SOPA_JUL19',\n",
       "   'SO_TEM_NO_IFOOD',\n",
       "   'SUPER_RESTAURANT'],\n",
       "  'paymentCodes': ['DNR',\n",
       "   'MPAY',\n",
       "   'MOVPAY_MC',\n",
       "   'MC',\n",
       "   'GPY_ELO',\n",
       "   'ELOD',\n",
       "   'GPY_MCMA',\n",
       "   'AM',\n",
       "   'MCMA',\n",
       "   'MOVPAY_AM',\n",
       "   'APL_ELOD',\n",
       "   'TRO',\n",
       "   'IMV',\n",
       "   'MOVPAY_VIS',\n",
       "   'GPY_ELOD',\n",
       "   'APL_MCMA',\n",
       "   'GPY_MC',\n",
       "   'APL_ELO',\n",
       "   'MOVPAY_HIPER',\n",
       "   'APL_VISE',\n",
       "   'VRO',\n",
       "   'HIPER',\n",
       "   'IFE',\n",
       "   'ALR',\n",
       "   'VIS',\n",
       "   'SRP',\n",
       "   'APL_VIS',\n",
       "   'MOVPAY_ELO',\n",
       "   'GPY_VISE',\n",
       "   'MOVPAY_DNR',\n",
       "   'VISE',\n",
       "   'ELO',\n",
       "   'APL_MC',\n",
       "   'GPY_VIS'],\n",
       "  'minimumOrderValue': 20.0,\n",
       "  'deliveryFee': {'type': 'FIXED', 'value': 6.99, 'originalValue': 6.99},\n",
       "  'deliveryTime': 31,\n",
       "  'distance': 0.89,\n",
       "  'available': True,\n",
       "  'takeoutTime': 25,\n",
       "  'preparationTime': 15,\n",
       "  'contextSetup': {'context': 'DEFAULT',\n",
       "   'regionGroup': 'e1dbd9d8-45d6-4b33-aafc-417b8d69b06d',\n",
       "   'catalogGroup': 'ffca0022-eb43-4205-9a1b-73a72f8e3f95'},\n",
       "  'currency': 'BRL'}]"
      ]
     },
     "metadata": {},
     "execution_count": 32
    }
   ],
   "source": [
    "# \"merchants\" contém as informações utilizadas para gerar o dataset, o parametro size delimita o tamanho dele\n",
    "response = requests.get(\"https://marketplace.ifood.com.br/v1/merchants?latitude=-23.19529&longitude=-45.90321&channel=IFOOD&size=2\")\n",
    "content = response.content\n",
    "print(\"Tamanho da 'merchants':\", len(json.loads(content)['merchants']))\n",
    "# Exemplo de uma lista 'merchants':\n",
    "json.loads(content)['merchants']"
   ]
  },
  {
   "source": [
    "## b) obtendo informações mais específicas de um restaurante\n",
    "### Esse método pode ser usado para conseguir mais informações dos restaurantes presentes no dataset"
   ],
   "cell_type": "markdown",
   "metadata": {}
  },
  {
   "cell_type": "code",
   "execution_count": 49,
   "metadata": {},
   "outputs": [
    {
     "output_type": "execute_result",
     "data": {
      "text/plain": [
       "'b279e970-562b-4180-8f0d-e62ae7cbdb5a'"
      ]
     },
     "metadata": {},
     "execution_count": 49
    }
   ],
   "source": [
    "# obtendo o id de um restaurante qualquer\n",
    "response = requests.get(\"https://marketplace.ifood.com.br/v1/merchants?latitude=-23.19529&longitude=-45.90321&channel=IFOOD\")\n",
    "content = response.content\n",
    "merchants = json.loads(content)['merchants']\n",
    "# seleciona o primeiro restaurante da lista e obtém o id dele\n",
    "restaurant_id = merchants[0]['id']\n",
    "restaurant_id"
   ]
  },
  {
   "cell_type": "code",
   "execution_count": 38,
   "metadata": {},
   "outputs": [],
   "source": [
    "# passando o id obtido anteriormente pra outra request\n",
    "response = requests.get(f\"https://marketplace.ifood.com.br/v1/merchants/{restaurant_id}/extra\")\n",
    "content = response.content\n",
    "restaurant_info = json.loads(content)"
   ]
  },
  {
   "cell_type": "code",
   "execution_count": 45,
   "metadata": {},
   "outputs": [
    {
     "output_type": "stream",
     "name": "stdout",
     "text": [
      "{'district': 'Bosque dos Eucaliptos', 'city': 'São José dos Campos', 'state': 'SP', 'country': 'BR', 'latitude': -23.242613, 'longitude': -45.888443, 'timezone': 'Etc/GMT+3', 'zipCode': '12233400', 'streetName': 'Av ouro fino ', 'streetNumber': '818', 'streetCompl': 'Sala 03'}\n{'CNPJ': {'type': 'CNPJ', 'value': '28267212000159'}}\n"
     ]
    }
   ],
   "source": [
    "# é possível obter o cnpj e o endereço do restaurante, por exemplo:\n",
    "print(restaurant_info['address'])\n",
    "print(restaurant_info['documents'])"
   ]
  },
  {
   "source": [
    "## c) Outra API do iFood\n",
    "Encontrei outra API, que pode ser acessada via:\n",
    "-  https://wsloja.ifood.com.br/ifood-ws-v3/restaurants/{id}\n",
    "\n",
    "E pode exibir o menu da loja se usarmos:\n",
    "- https://wsloja.ifood.com.br/ifood-ws-v3/restaurants/{id}/menu\n",
    "\n",
    "Mas recebi \"Acesso não permitido\". Debugando o site do iFood, parece ser necessário um token ou algo do tipo"
   ],
   "cell_type": "markdown",
   "metadata": {}
  }
 ]
}